{
 "cells": [
  {
   "cell_type": "code",
   "execution_count": 2,
   "metadata": {},
   "outputs": [],
   "source": [
    "import sys\n",
    "import os\n",
    "\n",
    "sys.path.remove(\"/home/junho/catkin_ws/devel/lib/python2.7/dist-packages\")\n",
    "sys.path.remove(\"/opt/ros/kinetic/lib/python2.7/dist-packages\")"
   ]
  },
  {
   "cell_type": "code",
   "execution_count": 3,
   "metadata": {},
   "outputs": [],
   "source": [
    "import cv2\n",
    "import random\n",
    "import numpy as np"
   ]
  },
  {
   "cell_type": "code",
   "execution_count": 4,
   "metadata": {},
   "outputs": [],
   "source": [
    "index = 1\n",
    "lightness = 4\n",
    "size = 5\n",
    "target_path = \"./target/%d-1.png\"%(j+1)\n",
    "background_path = \"./background\""
   ]
  },
  {
   "cell_type": "code",
   "execution_count": 8,
   "metadata": {},
   "outputs": [],
   "source": [
    "for j in range(1):\n",
    "    target = cv2.imread(target_path)\n",
    "    for i in range(1,size+1):\n",
    "        for (path, dir, files) in os.walk(background_path):\n",
    "            for filename in files:\n",
    "                ext = os.path.splitext(filename)[-1]\n",
    "                if ext == '.jpg':\n",
    "                    real_path = path+'/'+filename\n",
    "                    background = cv2.imread(real_path)\n",
    "\n",
    "                    target = cv2.resize(target,dsize=(int(i*650/size),int(i*780/size)),interpolation = cv2.INTER_LINEAR)\n",
    "                    background = cv2.resize(background,dsize=(1024,1024),interpolation = cv2.INTER_LINEAR)\n",
    "                    rows, cols, channels = target.shape\n",
    "                    rand_row = int((len(background[:,0,0])-rows)*random.random())\n",
    "                    rand_col = int((len(background[0,:,0])-cols)*random.random())\n",
    "\n",
    "                    roi = background[rand_row:rows+rand_row,rand_col:cols+rand_col]\n",
    "\n",
    "                    img2gray = cv2.cvtColor(target,cv2.COLOR_BGR2GRAY)\n",
    "                    ret, mask = cv2.threshold(img2gray,160,255,cv2.THRESH_BINARY)\n",
    "                    #if target's background is white use cv2.THRESH_BINARY_INV\n",
    "                    mask_inv = cv2.bitwise_not(mask)\n",
    "\n",
    "                    img1_fg = cv2.bitwise_and(target, target, mask=mask)\n",
    "                    img2_bg = cv2.bitwise_and(roi, roi, mask=mask_inv)\n",
    "\n",
    "                    dst = cv2.add(img1_fg,img2_bg)\n",
    "                    background[rand_row:rows+rand_row,rand_col:cols+rand_col] = dst\n",
    "\n",
    "                    y_center = (rand_row+rows/2)/len(background[:,0,0])\n",
    "                    x_center = (rand_col+cols/2)/len(background[0,:,0])\n",
    "                    y_width = rows/len(background[:,0,0])\n",
    "                    x_width = cols/len(background[0,:,0])\n",
    "\n",
    "                    filename = os.path.splitext(filename)[0]\n",
    "                    filename = str(2000+int(filename)+200*(i-1))+'.jpg'\n",
    "\n",
    "                    cv2.imwrite(\"./pic/darknet/data/img/%s\"%filename,background)\n",
    "                    f = open(\"./pic/darknet/data/img/%s.txt\"%os.path.splitext(filename)[0], 'w')\n",
    "                    f.write(\"%d %.4f %.4f %.4f %.4f\" % (j, x_center, y_center, x_width, y_width))\n",
    "                    f.close()"
   ]
  },
  {
   "cell_type": "code",
   "execution_count": 40,
   "metadata": {},
   "outputs": [],
   "source": [
    "#cv2.rectangle(background,(rand_col,rand_row),(rand_col+cols,rand_row+rows),(0,0,255),3)\n",
    "#cv2.rectangle(background,(rand_col,rand_row),(rand_col+cols,rand_row+rows),(0,0,255),3)"
   ]
  },
  {
   "cell_type": "code",
   "execution_count": null,
   "metadata": {},
   "outputs": [],
   "source": [
    "cv2.imshow(\"ss\",img2_g)\n",
    "cv2.waitKey(0)\n",
    "cv2.destroyAllWindows()"
   ]
  },
  {
   "cell_type": "code",
   "execution_count": 9,
   "metadata": {},
   "outputs": [],
   "source": [
    "f = open(\"./train.txt\", 'w')   \n",
    "for i in range(1,3001):\n",
    "    f.write(\"data/img/%d.jpg\\n\"%i)\n",
    "f.close()"
   ]
  },
  {
   "cell_type": "code",
   "execution_count": 8,
   "metadata": {},
   "outputs": [],
   "source": [
    "cv2.imshow(\"as\",a)\n",
    "cv2.waitKey(0)\n",
    "cv2.destroyAllWindows()"
   ]
  },
  {
   "cell_type": "code",
   "execution_count": null,
   "metadata": {},
   "outputs": [],
   "source": []
  }
 ],
 "metadata": {
  "kernelspec": {
   "display_name": "Python 3",
   "language": "python",
   "name": "python3"
  },
  "language_info": {
   "codemirror_mode": {
    "name": "ipython",
    "version": 3
   },
   "file_extension": ".py",
   "mimetype": "text/x-python",
   "name": "python",
   "nbconvert_exporter": "python",
   "pygments_lexer": "ipython3",
   "version": "3.6.4"
  }
 },
 "nbformat": 4,
 "nbformat_minor": 2
}
